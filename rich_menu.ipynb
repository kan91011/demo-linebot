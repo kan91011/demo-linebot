{
 "cells": [
  {
   "cell_type": "code",
   "execution_count": 1,
   "metadata": {},
   "outputs": [],
   "source": [
    "'''\n",
    "\n",
    "輸入圖文選單的資料夾名，若已創建過的，請勿輸入，避免重複創造\n",
    "\n",
    "圖文選單千萬不能有rich_menu_  內容出現 []  很重要因為機器人會死**********\n",
    "'''\n",
    "\n",
    "# rich_menu_array=['rich_menu_ex']\n",
    "rich_menu_array=['rich_menu_fn','follow','rich_menu_ex','rich_menu_index']"
   ]
  },
  {
   "cell_type": "code",
   "execution_count": 2,
   "metadata": {},
   "outputs": [
    {
     "name": "stdout",
     "output_type": "stream",
     "text": [
      "-設定檔上傳結果\n",
      "richmenu-a22304e68e98b3b0df85458820532d8c\n",
      "-圖片上傳結果\n",
      "None\n",
      "-設定檔上傳結果\n",
      "richmenu-6f1795118690597af54dd360d1599190\n",
      "-圖片上傳結果\n",
      "None\n",
      "-設定檔上傳結果\n",
      "richmenu-e90423056563704b52eba2ef2134acf4\n",
      "-圖片上傳結果\n",
      "None\n",
      "-設定檔上傳結果\n",
      "richmenu-5d36d08cc2ad32d42d6bbd613208d8c6\n",
      "-圖片上傳結果\n",
      "None\n"
     ]
    }
   ],
   "source": [
    "'''\n",
    "迴圈讀取本地列表，\n",
    "    上傳設定檔，取得id，並將id寫入檔案中，而後上傳圖片\n",
    "\n",
    "'''\n",
    "\n",
    "import json\n",
    "from linebot import LineBotApi\n",
    "\n",
    "# 載入安全設定檔\n",
    "secretFileContentJson=json.load(open(\"./line_secret_key\",'r',encoding='utf8'))\n",
    "line_bot_api = LineBotApi(secretFileContentJson.get(\"channel_access_token\"))\n",
    "\n",
    "from linebot.models import RichMenu\n",
    "\n",
    "for rich_menu_name in rich_menu_array:\n",
    "\n",
    "    \n",
    "    # 創建菜單，取得menuId\n",
    "    lineRichMenuId = line_bot_api.create_rich_menu(rich_menu=RichMenu.new_from_json_dict(json.load(open(\"material/\"+rich_menu_name+'/rich_menu.json','r',encoding='utf8'))))\n",
    "    print(\"-設定檔上傳結果\")\n",
    "    print(lineRichMenuId)\n",
    "\n",
    "                                           \n",
    "    # id寫入本地端                              \n",
    "    f = open(\"material/\"+rich_menu_name+\"/rich_menu_id\", \"w\",encoding='utf8')\n",
    "    f.write(lineRichMenuId)\n",
    "    f.close()                                       \n",
    "    \n",
    "\n",
    "    # 上傳照片至該id\n",
    "    set_image_response=''\n",
    "    with open(\"material/\"+rich_menu_name+'/rich_menu.jpg', 'rb') as f:\n",
    "        set_image_response=line_bot_api.set_rich_menu_image(lineRichMenuId, 'image/jpeg', f)\n",
    "        \n",
    "    print(\"-圖片上傳結果\")                                               \n",
    "    print(set_image_response)\n",
    "                                                                 \n"
   ]
  },
  {
   "cell_type": "code",
   "execution_count": 3,
   "metadata": {},
   "outputs": [
    {
     "data": {
      "text/plain": [
       "[{\"areas\": [{\"action\": {\"type\": \"uri\", \"uri\": \"https://www.tipo.gov.tw/tw/lp-85-1.html\"}, \"bounds\": {\"height\": 199, \"width\": 917, \"x\": 823, \"y\": 262}}, {\"action\": {\"type\": \"uri\", \"uri\": \"https://twtmsearch.tipo.gov.tw/OS0/OS0201.jsp?l6=zh_TW&isReadBulletinen_US=&isReadBulletinzh_TW=true\"}, \"bounds\": {\"height\": 208, \"width\": 633, \"x\": 795, \"y\": 590}}, {\"action\": {\"type\": \"uri\", \"uri\": \"https://topic.tipo.gov.tw/patents-tw/lp-712-101.html\"}, \"bounds\": {\"height\": 199, \"width\": 629, \"x\": 819, \"y\": 899}}, {\"action\": {\"type\": \"uri\", \"uri\": \"https://dfe8fdbb31c4.ngrok.io/login\"}, \"bounds\": {\"height\": 203, \"width\": 600, \"x\": 834, \"y\": 1205}}, {\"action\": {\"data\": \"menu=rich_menu_index\", \"text\": \"\\u4e0a\\u4e00\\u9801\", \"type\": \"postback\"}, \"bounds\": {\"height\": 494, \"width\": 474, \"x\": 1890, \"y\": 963}}], \"chatBarText\": \"~~\\u4e8b\\u52d9\\u6240~~\", \"name\": \"\\u5716\\u6587\\u9078\\u55ae3\", \"richMenuId\": \"richmenu-e90423056563704b52eba2ef2134acf4\", \"selected\": true, \"size\": {\"height\": 1686, \"width\": 2500}},\n",
       " {\"areas\": [{\"action\": {\"type\": \"uri\", \"uri\": \"https://line.me/R/nv/camera/\"}, \"bounds\": {\"height\": 635, \"width\": 688, \"x\": 409, \"y\": 166}}, {\"action\": {\"text\": \"\\u6587\\u5b57\\u5546\\u6a19\\u76f8\\u4f3c\", \"type\": \"message\"}, \"bounds\": {\"height\": 630, \"width\": 717, \"x\": 1325, \"y\": 170}}, {\"action\": {\"data\": \"menu=rich_menu_index\", \"text\": \"\\u56de\\u76ee\\u9304\", \"type\": \"postback\"}, \"bounds\": {\"height\": 383, \"width\": 545, \"x\": 1706, \"y\": 852}}], \"chatBarText\": \"\\u67e5\\u770b\\u66f4\\u591a\\u8cc7\\u8a0a\", \"name\": \"\\u5206\\u6790\\u529f\\u80fd\", \"richMenuId\": \"richmenu-a22304e68e98b3b0df85458820532d8c\", \"selected\": true, \"size\": {\"height\": 1686, \"width\": 2500}},\n",
       " {\"areas\": [{\"action\": {\"data\": \"menu=rich_menu_fn\", \"text\": \"\\u5206\\u6790\\u529f\\u80fd\", \"type\": \"postback\"}, \"bounds\": {\"height\": 688, \"width\": 558, \"x\": 164, \"y\": 730}}, {\"action\": {\"data\": \"menu=rich_menu_ex\", \"text\": \"\\u76ee\\u9304\", \"type\": \"postback\"}, \"bounds\": {\"height\": 669, \"width\": 621, \"x\": 900, \"y\": 725}}, {\"action\": {\"data\": \"\\u5ba2\\u670d\\u9810\\u7d04\", \"text\": \"\\u5ba2\\u670d\\u9810\\u7d04\", \"type\": \"postback\"}, \"bounds\": {\"height\": 741, \"width\": 601, \"x\": 1691, \"y\": 720}}], \"chatBarText\": \"~~\\u4e8b\\u52d9\\u6240~~\", \"name\": \"\\u5716\\u6587\\u9078\\u55ae 4\", \"richMenuId\": \"richmenu-6f1795118690597af54dd360d1599190\", \"selected\": true, \"size\": {\"height\": 1686, \"width\": 2500}},\n",
       " {\"areas\": [{\"action\": {\"data\": \"menu=rich_menu_fn\", \"text\": \"\\u5206\\u6790\\u529f\\u80fd\", \"type\": \"postback\"}, \"bounds\": {\"height\": 688, \"width\": 558, \"x\": 164, \"y\": 730}}, {\"action\": {\"data\": \"menu=rich_menu_ex\", \"text\": \"\\u76ee\\u9304\", \"type\": \"postback\"}, \"bounds\": {\"height\": 669, \"width\": 621, \"x\": 900, \"y\": 725}}, {\"action\": {\"data\": \"\\u5ba2\\u670d\\u9810\\u7d04\", \"text\": \"\\u5ba2\\u670d\\u9810\\u7d04\", \"type\": \"postback\"}, \"bounds\": {\"height\": 741, \"width\": 601, \"x\": 1691, \"y\": 720}}], \"chatBarText\": \"~~\\u4e8b\\u52d9\\u6240~~\", \"name\": \"\\u5716\\u6587\\u9078\\u55ae 4\", \"richMenuId\": \"richmenu-5d36d08cc2ad32d42d6bbd613208d8c6\", \"selected\": true, \"size\": {\"height\": 1686, \"width\": 2500}}]"
      ]
     },
     "execution_count": 3,
     "metadata": {},
     "output_type": "execute_result"
    }
   ],
   "source": [
    "'''\n",
    "\n",
    "查詢帳號內擁有的richmenu \n",
    "\n",
    "'''\n",
    "\n",
    "from linebot import (\n",
    "    LineBotApi\n",
    ")\n",
    "\n",
    "import json\n",
    "\n",
    "secretFileContentJson=json.load(open(\"./line_secret_key\",'r',encoding='utf8'))\n",
    "line_bot_api = LineBotApi(secretFileContentJson.get(\"channel_access_token\"))\n",
    "\n",
    "line_bot_api.get_rich_menu_list()\n"
   ]
  },
  {
   "cell_type": "code",
   "execution_count": 4,
   "metadata": {},
   "outputs": [
    {
     "ename": "FileNotFoundError",
     "evalue": "[Errno 2] No such file or directory: 'material/rich_menu_0/rich_menu_id'",
     "output_type": "error",
     "traceback": [
      "\u001b[1;31m---------------------------------------------------------------------------\u001b[0m",
      "\u001b[1;31mFileNotFoundError\u001b[0m                         Traceback (most recent call last)",
      "\u001b[1;32m<ipython-input-4-6d4f45f3f37a>\u001b[0m in \u001b[0;36m<module>\u001b[1;34m\u001b[0m\n\u001b[0;32m     19\u001b[0m \u001b[1;33m\u001b[0m\u001b[0m\n\u001b[0;32m     20\u001b[0m     \u001b[1;31m# 讀取rich_menu_id檔案，並告知 Line 進行刪除，並在刪除後，把本地檔案內容清除\u001b[0m\u001b[1;33m\u001b[0m\u001b[1;33m\u001b[0m\u001b[1;33m\u001b[0m\u001b[0m\n\u001b[1;32m---> 21\u001b[1;33m     \u001b[1;32mwith\u001b[0m \u001b[0mopen\u001b[0m\u001b[1;33m(\u001b[0m\u001b[1;34m\"material/\"\u001b[0m\u001b[1;33m+\u001b[0m\u001b[0mrich_menu_name\u001b[0m\u001b[1;33m+\u001b[0m\u001b[1;34m'/rich_menu_id'\u001b[0m\u001b[1;33m,\u001b[0m \u001b[1;34m'r'\u001b[0m\u001b[1;33m,\u001b[0m\u001b[0mencoding\u001b[0m\u001b[1;33m=\u001b[0m\u001b[1;34m'utf8'\u001b[0m\u001b[1;33m)\u001b[0m \u001b[1;32mas\u001b[0m \u001b[0mmyfile\u001b[0m\u001b[1;33m:\u001b[0m\u001b[1;33m\u001b[0m\u001b[1;33m\u001b[0m\u001b[0m\n\u001b[0m\u001b[0;32m     22\u001b[0m         \u001b[0mrich_menu_id\u001b[0m \u001b[1;33m=\u001b[0m \u001b[0mmyfile\u001b[0m\u001b[1;33m.\u001b[0m\u001b[0mread\u001b[0m\u001b[1;33m(\u001b[0m\u001b[1;33m)\u001b[0m\u001b[1;33m\u001b[0m\u001b[1;33m\u001b[0m\u001b[0m\n\u001b[0;32m     23\u001b[0m         \u001b[0mdeleteResult\u001b[0m \u001b[1;33m=\u001b[0m \u001b[0mline_bot_api\u001b[0m\u001b[1;33m.\u001b[0m\u001b[0mdelete_rich_menu\u001b[0m\u001b[1;33m(\u001b[0m\u001b[0mrich_menu_id\u001b[0m\u001b[1;33m)\u001b[0m\u001b[1;33m\u001b[0m\u001b[1;33m\u001b[0m\u001b[0m\n",
      "\u001b[1;31mFileNotFoundError\u001b[0m: [Errno 2] No such file or directory: 'material/rich_menu_0/rich_menu_id'"
     ]
    }
   ],
   "source": [
    "'''\n",
    "\n",
    "移除帳號內的richmenu\n",
    "\n",
    "'''\n",
    "\n",
    "from linebot import (\n",
    "    LineBotApi\n",
    ")\n",
    "\n",
    "import json\n",
    "secretFileContentJson=json.load(open(\"./line_secret_key\",'r',encoding='utf8'))\n",
    "line_bot_api = LineBotApi(secretFileContentJson.get(\"channel_access_token\"))\n",
    "\n",
    "# 設定要移除的rich_menu\n",
    "rich_menu_name_array = [\"rich_menu_0\"]\n",
    "\n",
    "for rich_menu_name in rich_menu_name_array:\n",
    "    \n",
    "    # 讀取rich_menu_id檔案，並告知 Line 進行刪除，並在刪除後，把本地檔案內容清除\n",
    "    with open(\"material/\"+rich_menu_name+'/rich_menu_id', 'r',encoding='utf8') as myfile:\n",
    "        rich_menu_id = myfile.read()\n",
    "        deleteResult = line_bot_api.delete_rich_menu(rich_menu_id)\n",
    "        print(deleteResult)\n",
    "        \n",
    "    f = open(\"material/\"+rich_menu_name+\"/rich_menu_id\", \"w\")\n",
    "    f.write('')\n",
    "    f.close() "
   ]
  },
  {
   "cell_type": "code",
   "execution_count": null,
   "metadata": {},
   "outputs": [],
   "source": [
    "'''\n",
    "\n",
    "解除用戶綁定\n",
    "\n",
    "'''\n",
    "\n",
    "from linebot import (\n",
    "    LineBotApi\n",
    ")\n",
    "\n",
    "import json\n",
    "\n",
    "# rich_menu_id_array = [\"rich_menu_0\"]\n",
    "\n",
    "secretFileContentJson=json.load(open(\"./line_secret_key\",'r',encoding='utf8'))\n",
    "line_bot_api = LineBotApi(secretFileContentJson.get(\"channel_access_token\"))\n",
    "\n",
    "self_user_id='Ud29c5cf085e845db7c6457677116df4d'\n",
    "line_bot_api.unlink_rich_menu_from_user(self_user_id)"
   ]
  },
  {
   "cell_type": "code",
   "execution_count": null,
   "metadata": {},
   "outputs": [],
   "source": [
    "'''\n",
    "\n",
    "綁定個人用戶進行測試\n",
    "\n",
    "'''\n",
    "\n",
    "from linebot import (\n",
    "    LineBotApi\n",
    ")\n",
    "\n",
    "import json\n",
    "\n",
    "# rich_menu_id_array = [\"rich_menu_0\"]\n",
    "\n",
    "secretFileContentJson=json.load(open(\"./line_secret_key\",'r',encoding='utf8'))\n",
    "line_bot_api = LineBotApi(secretFileContentJson.get(\"channel_access_token\"))\n",
    "\n",
    "self_user_id='Ud29c5cf085e845db7c6457677116df4d'\n",
    "rich_menu_id='richmenu-62d1b8717117640cdb9910e273452d35'\n",
    "\n",
    "line_bot_api.unlink_rich_menu_from_user(self_user_id)\n",
    "line_bot_api.link_rich_menu_to_user(self_user_id,rich_menu_id)"
   ]
  },
  {
   "cell_type": "code",
   "execution_count": null,
   "metadata": {},
   "outputs": [],
   "source": []
  },
  {
   "cell_type": "code",
   "execution_count": null,
   "metadata": {},
   "outputs": [],
   "source": []
  },
  {
   "cell_type": "code",
   "execution_count": null,
   "metadata": {},
   "outputs": [],
   "source": []
  }
 ],
 "metadata": {
  "kernelspec": {
   "display_name": "Python 3",
   "language": "python",
   "name": "python3"
  },
  "language_info": {
   "codemirror_mode": {
    "name": "ipython",
    "version": 3
   },
   "file_extension": ".py",
   "mimetype": "text/x-python",
   "name": "python",
   "nbconvert_exporter": "python",
   "pygments_lexer": "ipython3",
   "version": "3.7.4"
  }
 },
 "nbformat": 4,
 "nbformat_minor": 2
}
